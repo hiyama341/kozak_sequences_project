{
 "cells": [
  {
   "cell_type": "markdown",
   "metadata": {},
   "source": [
    "# Micro-homology endjoining analysis"
   ]
  },
  {
   "cell_type": "code",
   "execution_count": 33,
   "metadata": {},
   "outputs": [],
   "source": [
    "\n",
    "from pydna.dseqrecord import Dseqrecord\n",
    "from constrain.lab.PCR import primer_tm_neb\n",
    "from pydna.design import primer_design\n",
    "from pydna.dseqrecord import Dseqrecord\n",
    "from  Bio.SeqRecord import SeqRecord\n",
    "from pydna.dseqrecord import Dseqrecord\n",
    "from typing import List\n",
    "\n",
    "from typing import List\n",
    "\n",
    "from Bio import SeqIO \n",
    "from pydna.dseqrecord import Dseqrecord\n",
    "import pandas as pd\n",
    "from constrain.lab.PCR import primer_tm_neb\n",
    "from pydna.design import primer_design\n",
    "from Bio.SeqRecord import SeqRecord\n",
    "from Bio import SeqIO \n",
    "from pydna.dseqrecord import Dseqrecord\n",
    "from Bio.SeqFeature import SeqFeature, FeatureLocation\n",
    "import pandas as pd\n",
    "from pydna.assembly import Assembly\n",
    "from  Bio.SeqRecord import SeqRecord\n",
    "from dna_features_viewer import GraphicFeature, CircularGraphicRecord\n",
    "from dna_features_viewer import BiopythonTranslator\n",
    "import os\n",
    "from Bio import SeqIO \n",
    "\n",
    "from Bio.Seq import Seq\n"
   ]
  },
  {
   "cell_type": "code",
   "execution_count": 42,
   "metadata": {},
   "outputs": [],
   "source": [
    "from teemi.design.fetch_sequences import read_fasta_files\n",
    "promoter = read_fasta_files('../data/parts/pTEF.fasta')[0][-50:]\n",
    "RFP = read_fasta_files('../data/parts/RFP.fasta')[0][:50]"
   ]
  },
  {
   "cell_type": "code",
   "execution_count": 43,
   "metadata": {},
   "outputs": [
    {
     "name": "stdout",
     "output_type": "stream",
     "text": [
      "CTGAGCACTTCTCCCTTTTATATTCCACAAAACATAACACAACCTTCACC\n",
      "ATGCGCACCTTGAAGCGCATGAACTCCTTGATGACGTCCTCGGAGGAGGC\n"
     ]
    }
   ],
   "source": [
    "print(promoter[-50:].seq)\n",
    "print(RFP[:50].reverse_complement().seq)"
   ]
  },
  {
   "cell_type": "code",
   "execution_count": 44,
   "metadata": {},
   "outputs": [],
   "source": [
    "def generate_kmers(sequence, k):\n",
    "    \"\"\"\n",
    "    Generate all k-mers from a given sequence.\n",
    "\n",
    "    Parameters:\n",
    "    - sequence (str): Input sequence.\n",
    "    - k (int): Length of the k-mers to generate.\n",
    "\n",
    "    Returns:\n",
    "    - list: List of generated k-mers.\n",
    "\n",
    "    Raises:\n",
    "    - ValueError: If k is less than or equal to 0 or greater than the length of the sequence.\n",
    "    \"\"\"\n",
    "    kmers = []\n",
    "    n = len(sequence)\n",
    "\n",
    "    if k <= 0 or k > n:\n",
    "        return kmers\n",
    "\n",
    "    for i in range(n - k + 1):\n",
    "        kmer = sequence[i:i+k]\n",
    "        kmers.append(kmer)\n",
    "\n",
    "    return kmers\n",
    "\n",
    "\n",
    "import pandas as pd\n",
    "from Bio.SeqRecord import SeqRecord\n",
    "\n",
    "def micro_homolgy(sequence1: SeqRecord, sequence2: SeqRecord, k: int = 3) -> pd.DataFrame:\n",
    "    \"\"\"\n",
    "    Count the occurrences of shared k-mers between two sequences and return the results as a DataFrame.\n",
    "\n",
    "    Parameters:\n",
    "    - sequence1 (SeqRecord): First input sequence as a SeqRecord object.\n",
    "    - sequence2 (SeqRecord): Second input sequence as a SeqRecord object.\n",
    "    - k (int): Length of the k-mers to consider (default: 3).\n",
    "\n",
    "    Returns:\n",
    "    - pd.DataFrame: DataFrame with columns 'Sequence' and 'Count', sorted by count in descending order.\n",
    "\n",
    "    Notes:\n",
    "    - The function uses the generate_kmers function internally to extract k-mers from the input sequences.\n",
    "\n",
    "    Examples:\n",
    "    >>> from Bio import SeqIO\n",
    "    >>> sequence1 = SeqIO.read(\"sequence1.fasta\", \"fasta\")\n",
    "    >>> sequence2 = SeqIO.read(\"sequence2.fasta\", \"fasta\")\n",
    "    >>> result = micro_homolgy(sequence1, sequence2, k=3)\n",
    "    >>> print(result)\n",
    "      Sequence  Count\n",
    "    0      TCG      3\n",
    "    1      GAT      3\n",
    "    2      CGA      3\n",
    "    \"\"\"\n",
    "    kmer1 = generate_kmers(sequence1.seq, k)\n",
    "    sequence2 = sequence2.reverse_complement()\n",
    "    kmer2 = generate_kmers(sequence2.seq, k)\n",
    "\n",
    "    kmer_counts = {}\n",
    "\n",
    "    for seq1 in kmer1:\n",
    "        for seq2 in kmer2:\n",
    "            if seq1 == seq2:\n",
    "                if seq1 in kmer_counts:\n",
    "                    kmer_counts[seq1] += 1\n",
    "                else:\n",
    "                    kmer_counts[seq1] = 1\n",
    "\n",
    "    sorted_kmers = sorted(kmer_counts.items(), key=lambda x: x[1], reverse=True)\n",
    "    df = pd.DataFrame(sorted_kmers, columns=['Sequence', 'Count'])\n",
    "\n",
    "    return df\n"
   ]
  },
  {
   "cell_type": "code",
   "execution_count": 48,
   "metadata": {},
   "outputs": [
    {
     "data": {
      "text/html": [
       "<div>\n",
       "<style scoped>\n",
       "    .dataframe tbody tr th:only-of-type {\n",
       "        vertical-align: middle;\n",
       "    }\n",
       "\n",
       "    .dataframe tbody tr th {\n",
       "        vertical-align: top;\n",
       "    }\n",
       "\n",
       "    .dataframe thead th {\n",
       "        text-align: right;\n",
       "    }\n",
       "</style>\n",
       "<table border=\"1\" class=\"dataframe\">\n",
       "  <thead>\n",
       "    <tr style=\"text-align: right;\">\n",
       "      <th></th>\n",
       "      <th>Sequence</th>\n",
       "      <th>Count</th>\n",
       "    </tr>\n",
       "  </thead>\n",
       "  <tbody>\n",
       "    <tr>\n",
       "      <th>0</th>\n",
       "      <td>(C, T, T)</td>\n",
       "      <td>6</td>\n",
       "    </tr>\n",
       "    <tr>\n",
       "      <th>1</th>\n",
       "      <td>(C, C, T)</td>\n",
       "      <td>6</td>\n",
       "    </tr>\n",
       "    <tr>\n",
       "      <th>2</th>\n",
       "      <td>(T, G, A)</td>\n",
       "      <td>4</td>\n",
       "    </tr>\n",
       "    <tr>\n",
       "      <th>3</th>\n",
       "      <td>(C, A, C)</td>\n",
       "      <td>4</td>\n",
       "    </tr>\n",
       "    <tr>\n",
       "      <th>4</th>\n",
       "      <td>(T, C, C)</td>\n",
       "      <td>4</td>\n",
       "    </tr>\n",
       "    <tr>\n",
       "      <th>5</th>\n",
       "      <td>(A, A, C)</td>\n",
       "      <td>3</td>\n",
       "    </tr>\n",
       "    <tr>\n",
       "      <th>6</th>\n",
       "      <td>(G, A, G)</td>\n",
       "      <td>2</td>\n",
       "    </tr>\n",
       "    <tr>\n",
       "      <th>7</th>\n",
       "      <td>(G, C, A)</td>\n",
       "      <td>2</td>\n",
       "    </tr>\n",
       "    <tr>\n",
       "      <th>8</th>\n",
       "      <td>(C, T, C)</td>\n",
       "      <td>2</td>\n",
       "    </tr>\n",
       "    <tr>\n",
       "      <th>9</th>\n",
       "      <td>(A, C, C)</td>\n",
       "      <td>2</td>\n",
       "    </tr>\n",
       "    <tr>\n",
       "      <th>10</th>\n",
       "      <td>(A, G, C)</td>\n",
       "      <td>1</td>\n",
       "    </tr>\n",
       "    <tr>\n",
       "      <th>11</th>\n",
       "      <td>(A, C, T)</td>\n",
       "      <td>1</td>\n",
       "    </tr>\n",
       "    <tr>\n",
       "      <th>12</th>\n",
       "      <td>(C, A, T)</td>\n",
       "      <td>1</td>\n",
       "    </tr>\n",
       "  </tbody>\n",
       "</table>\n",
       "</div>"
      ],
      "text/plain": [
       "     Sequence  Count\n",
       "0   (C, T, T)      6\n",
       "1   (C, C, T)      6\n",
       "2   (T, G, A)      4\n",
       "3   (C, A, C)      4\n",
       "4   (T, C, C)      4\n",
       "5   (A, A, C)      3\n",
       "6   (G, A, G)      2\n",
       "7   (G, C, A)      2\n",
       "8   (C, T, C)      2\n",
       "9   (A, C, C)      2\n",
       "10  (A, G, C)      1\n",
       "11  (A, C, T)      1\n",
       "12  (C, A, T)      1"
      ]
     },
     "execution_count": 48,
     "metadata": {},
     "output_type": "execute_result"
    }
   ],
   "source": [
    "counts = micro_homolgy(promoter, RFP, k=3)\n",
    "counts"
   ]
  },
  {
   "cell_type": "code",
   "execution_count": 51,
   "metadata": {},
   "outputs": [],
   "source": [
    "total = counts['Count'].sum()"
   ]
  },
  {
   "cell_type": "code",
   "execution_count": 52,
   "metadata": {},
   "outputs": [
    {
     "data": {
      "text/plain": [
       "38"
      ]
     },
     "execution_count": 52,
     "metadata": {},
     "output_type": "execute_result"
    }
   ],
   "source": [
    "total"
   ]
  },
  {
   "cell_type": "code",
   "execution_count": null,
   "metadata": {},
   "outputs": [],
   "source": []
  }
 ],
 "metadata": {
  "kernelspec": {
   "display_name": "constrain",
   "language": "python",
   "name": "python3"
  },
  "language_info": {
   "codemirror_mode": {
    "name": "ipython",
    "version": 3
   },
   "file_extension": ".py",
   "mimetype": "text/x-python",
   "name": "python",
   "nbconvert_exporter": "python",
   "pygments_lexer": "ipython3",
   "version": "3.8.13"
  },
  "orig_nbformat": 4
 },
 "nbformat": 4,
 "nbformat_minor": 2
}
