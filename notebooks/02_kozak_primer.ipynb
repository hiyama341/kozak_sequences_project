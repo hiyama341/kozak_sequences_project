{
 "cells": [
  {
   "cell_type": "code",
   "execution_count": 1,
   "metadata": {},
   "outputs": [],
   "source": [
    "from Bio.Seq import Seq\n",
    "from Bio.SeqRecord import SeqRecord\n",
    "from Bio import SeqIO\n",
    "import pandas as pd\n",
    "from Bio.Seq import Seq\n",
    "from typing import List, Dict, Union\n",
    "\n",
    "from Bio.Seq import Seq\n",
    "from Bio.SeqRecord import SeqRecord\n",
    "from Bio import SeqIO\n",
    "import pandas as pd\n",
    "from Bio.Seq import Seq\n",
    "from typing import List, Dict, Union\n",
    "\n"
   ]
  },
  {
   "cell_type": "code",
   "execution_count": 2,
   "metadata": {},
   "outputs": [
    {
     "name": "stdout",
     "output_type": "stream",
     "text": [
      "[['A', 'T', 'G', 'C'], ['A', 'T', 'G', 'C'], ['A', 'T', 'G', 'C'], ['A', 'T', 'G', 'C'], ['A', 'T', 'G', 'C']]\n"
     ]
    }
   ],
   "source": [
    "nucleotide_list = [list(\"ATGC\")]*5\n",
    "print(nucleotide_list)"
   ]
  },
  {
   "cell_type": "code",
   "execution_count": 3,
   "metadata": {},
   "outputs": [],
   "source": [
    "from teemi.design.combinatorial_design import get_combinatorial_list"
   ]
  },
  {
   "cell_type": "code",
   "execution_count": 4,
   "metadata": {},
   "outputs": [],
   "source": [
    "# make all combinations\n",
    "kozak = get_combinatorial_list(nucleotide_list)"
   ]
  },
  {
   "cell_type": "code",
   "execution_count": 24,
   "metadata": {},
   "outputs": [],
   "source": [
    "# Make them into strings\n",
    "\n",
    "def make_to_string(list_of_list):\n",
    "    all_combinations_as_str = []\n",
    "    nuc_seq = ''\n",
    "    for sp in list_of_list: \n",
    "        for seq in sp: \n",
    "            nuc_seq += seq\n",
    "        \n",
    "        all_combinations_as_str.append(nuc_seq)\n",
    "        nuc_seq = ''\n",
    "\n",
    "    return all_combinations_as_str\n",
    "\n",
    "\n",
    "all_combinations_as_str = make_to_string(kozak)"
   ]
  },
  {
   "cell_type": "code",
   "execution_count": 6,
   "metadata": {},
   "outputs": [],
   "source": [
    "five_prime = 'TATATTCCACAAAACATAACACAACCT'\n",
    "three_prime = 'ATGGCCTCCTCCGAGGACGTCATCAAGG'"
   ]
  },
  {
   "cell_type": "code",
   "execution_count": 25,
   "metadata": {},
   "outputs": [],
   "source": [
    "five_prime_list = [[five_prime]] * len(all_combinations_as_str)\n",
    "three_prime_list = [list(three_prime)] * len(all_combinations_as_str)\n",
    "\n",
    "\n",
    "# to string\n",
    "five_prime_list = make_to_string(five_prime_list)\n",
    "three_prime_list = make_to_string(three_prime_list)\n"
   ]
  },
  {
   "cell_type": "code",
   "execution_count": 26,
   "metadata": {},
   "outputs": [],
   "source": [
    "muy_dict = {'five':five_prime_list, \"kozak\":all_combinations_as_str, \"three\":three_prime_list}"
   ]
  },
  {
   "cell_type": "code",
   "execution_count": 27,
   "metadata": {},
   "outputs": [
    {
     "data": {
      "text/html": [
       "<div>\n",
       "<style scoped>\n",
       "    .dataframe tbody tr th:only-of-type {\n",
       "        vertical-align: middle;\n",
       "    }\n",
       "\n",
       "    .dataframe tbody tr th {\n",
       "        vertical-align: top;\n",
       "    }\n",
       "\n",
       "    .dataframe thead th {\n",
       "        text-align: right;\n",
       "    }\n",
       "</style>\n",
       "<table border=\"1\" class=\"dataframe\">\n",
       "  <thead>\n",
       "    <tr style=\"text-align: right;\">\n",
       "      <th></th>\n",
       "      <th>five</th>\n",
       "      <th>kozak</th>\n",
       "      <th>three</th>\n",
       "    </tr>\n",
       "  </thead>\n",
       "  <tbody>\n",
       "    <tr>\n",
       "      <th>0</th>\n",
       "      <td>AAAAA</td>\n",
       "      <td>AAAAA</td>\n",
       "      <td>AAAAA</td>\n",
       "    </tr>\n",
       "    <tr>\n",
       "      <th>1</th>\n",
       "      <td>AAAAT</td>\n",
       "      <td>AAAAT</td>\n",
       "      <td>AAAAT</td>\n",
       "    </tr>\n",
       "    <tr>\n",
       "      <th>2</th>\n",
       "      <td>AAAAG</td>\n",
       "      <td>AAAAG</td>\n",
       "      <td>AAAAG</td>\n",
       "    </tr>\n",
       "    <tr>\n",
       "      <th>3</th>\n",
       "      <td>AAAAC</td>\n",
       "      <td>AAAAC</td>\n",
       "      <td>AAAAC</td>\n",
       "    </tr>\n",
       "    <tr>\n",
       "      <th>4</th>\n",
       "      <td>AAATA</td>\n",
       "      <td>AAATA</td>\n",
       "      <td>AAATA</td>\n",
       "    </tr>\n",
       "    <tr>\n",
       "      <th>...</th>\n",
       "      <td>...</td>\n",
       "      <td>...</td>\n",
       "      <td>...</td>\n",
       "    </tr>\n",
       "    <tr>\n",
       "      <th>1019</th>\n",
       "      <td>CCCGC</td>\n",
       "      <td>CCCGC</td>\n",
       "      <td>CCCGC</td>\n",
       "    </tr>\n",
       "    <tr>\n",
       "      <th>1020</th>\n",
       "      <td>CCCCA</td>\n",
       "      <td>CCCCA</td>\n",
       "      <td>CCCCA</td>\n",
       "    </tr>\n",
       "    <tr>\n",
       "      <th>1021</th>\n",
       "      <td>CCCCT</td>\n",
       "      <td>CCCCT</td>\n",
       "      <td>CCCCT</td>\n",
       "    </tr>\n",
       "    <tr>\n",
       "      <th>1022</th>\n",
       "      <td>CCCCG</td>\n",
       "      <td>CCCCG</td>\n",
       "      <td>CCCCG</td>\n",
       "    </tr>\n",
       "    <tr>\n",
       "      <th>1023</th>\n",
       "      <td>CCCCC</td>\n",
       "      <td>CCCCC</td>\n",
       "      <td>CCCCC</td>\n",
       "    </tr>\n",
       "  </tbody>\n",
       "</table>\n",
       "<p>1024 rows × 3 columns</p>\n",
       "</div>"
      ],
      "text/plain": [
       "       five  kozak  three\n",
       "0     AAAAA  AAAAA  AAAAA\n",
       "1     AAAAT  AAAAT  AAAAT\n",
       "2     AAAAG  AAAAG  AAAAG\n",
       "3     AAAAC  AAAAC  AAAAC\n",
       "4     AAATA  AAATA  AAATA\n",
       "...     ...    ...    ...\n",
       "1019  CCCGC  CCCGC  CCCGC\n",
       "1020  CCCCA  CCCCA  CCCCA\n",
       "1021  CCCCT  CCCCT  CCCCT\n",
       "1022  CCCCG  CCCCG  CCCCG\n",
       "1023  CCCCC  CCCCC  CCCCC\n",
       "\n",
       "[1024 rows x 3 columns]"
      ]
     },
     "execution_count": 27,
     "metadata": {},
     "output_type": "execute_result"
    }
   ],
   "source": [
    "kozak_df = pd.DataFrame(muy_dict)\n",
    "kozak_df"
   ]
  },
  {
   "cell_type": "code",
   "execution_count": 28,
   "metadata": {},
   "outputs": [
    {
     "data": {
      "text/html": [
       "<div>\n",
       "<style scoped>\n",
       "    .dataframe tbody tr th:only-of-type {\n",
       "        vertical-align: middle;\n",
       "    }\n",
       "\n",
       "    .dataframe tbody tr th {\n",
       "        vertical-align: top;\n",
       "    }\n",
       "\n",
       "    .dataframe thead th {\n",
       "        text-align: right;\n",
       "    }\n",
       "</style>\n",
       "<table border=\"1\" class=\"dataframe\">\n",
       "  <thead>\n",
       "    <tr style=\"text-align: right;\">\n",
       "      <th></th>\n",
       "      <th>kozak_seq</th>\n",
       "    </tr>\n",
       "  </thead>\n",
       "  <tbody>\n",
       "    <tr>\n",
       "      <th>0</th>\n",
       "      <td>AAAAA</td>\n",
       "    </tr>\n",
       "    <tr>\n",
       "      <th>1</th>\n",
       "      <td>AAAAT</td>\n",
       "    </tr>\n",
       "    <tr>\n",
       "      <th>2</th>\n",
       "      <td>AAAAG</td>\n",
       "    </tr>\n",
       "    <tr>\n",
       "      <th>3</th>\n",
       "      <td>AAAAC</td>\n",
       "    </tr>\n",
       "    <tr>\n",
       "      <th>4</th>\n",
       "      <td>AAATA</td>\n",
       "    </tr>\n",
       "    <tr>\n",
       "      <th>...</th>\n",
       "      <td>...</td>\n",
       "    </tr>\n",
       "    <tr>\n",
       "      <th>1019</th>\n",
       "      <td>CCCGC</td>\n",
       "    </tr>\n",
       "    <tr>\n",
       "      <th>1020</th>\n",
       "      <td>CCCCA</td>\n",
       "    </tr>\n",
       "    <tr>\n",
       "      <th>1021</th>\n",
       "      <td>CCCCT</td>\n",
       "    </tr>\n",
       "    <tr>\n",
       "      <th>1022</th>\n",
       "      <td>CCCCG</td>\n",
       "    </tr>\n",
       "    <tr>\n",
       "      <th>1023</th>\n",
       "      <td>CCCCC</td>\n",
       "    </tr>\n",
       "  </tbody>\n",
       "</table>\n",
       "<p>1024 rows × 1 columns</p>\n",
       "</div>"
      ],
      "text/plain": [
       "     kozak_seq\n",
       "0        AAAAA\n",
       "1        AAAAT\n",
       "2        AAAAG\n",
       "3        AAAAC\n",
       "4        AAATA\n",
       "...        ...\n",
       "1019     CCCGC\n",
       "1020     CCCCA\n",
       "1021     CCCCT\n",
       "1022     CCCCG\n",
       "1023     CCCCC\n",
       "\n",
       "[1024 rows x 1 columns]"
      ]
     },
     "execution_count": 28,
     "metadata": {},
     "output_type": "execute_result"
    }
   ],
   "source": [
    "kozak_df = pd.DataFrame({'kozak_seq':all_combinations_as_str })\n",
    "kozak_df"
   ]
  },
  {
   "cell_type": "code",
   "execution_count": null,
   "metadata": {},
   "outputs": [],
   "source": [
    "list_of_all_combinations = []\n",
    "for i in range(len(all_combinations_as_str)): \n",
    "    sp = SeqRecord(all_combinations_as_str[i])\n",
    "    sp.description, sp.name, sp.id  = \"\" , i, str(i)\n",
    "    \n",
    "    \n",
    "    list_of_all_combinations.append(sp)"
   ]
  },
  {
   "cell_type": "code",
   "execution_count": null,
   "metadata": {},
   "outputs": [],
   "source": []
  }
 ],
 "metadata": {
  "kernelspec": {
   "display_name": "constrain",
   "language": "python",
   "name": "python3"
  },
  "language_info": {
   "codemirror_mode": {
    "name": "ipython",
    "version": 3
   },
   "file_extension": ".py",
   "mimetype": "text/x-python",
   "name": "python",
   "nbconvert_exporter": "python",
   "pygments_lexer": "ipython3",
   "version": "3.8.13"
  },
  "orig_nbformat": 4
 },
 "nbformat": 4,
 "nbformat_minor": 2
}
