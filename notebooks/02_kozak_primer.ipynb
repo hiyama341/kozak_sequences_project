{
 "cells": [
  {
   "cell_type": "code",
   "execution_count": 1,
   "metadata": {},
   "outputs": [],
   "source": [
    "from Bio.Seq import Seq\n",
    "from Bio.SeqRecord import SeqRecord\n",
    "from Bio import SeqIO\n",
    "import pandas as pd\n",
    "from typing import List, Dict, Union"
   ]
  },
  {
   "cell_type": "markdown",
   "metadata": {},
   "source": [
    "# Designing Primers for Kozak analysis"
   ]
  },
  {
   "cell_type": "markdown",
   "metadata": {},
   "source": [
    "In this notebook we explore the combinatorial space of the most abundant kozak sequences and make repair-primers for the experiments.  "
   ]
  },
  {
   "cell_type": "code",
   "execution_count": 2,
   "metadata": {},
   "outputs": [
    {
     "name": "stdout",
     "output_type": "stream",
     "text": [
      "[['A', 'T', 'G', 'C'], ['A', 'T', 'G', 'C'], ['A', 'T', 'G', 'C'], ['A', 'T', 'G', 'C'], ['A', 'T', 'G', 'C']]\n"
     ]
    }
   ],
   "source": [
    "nucleotide_list = [list(\"ATGC\")]*5\n",
    "print(nucleotide_list)"
   ]
  },
  {
   "cell_type": "markdown",
   "metadata": {},
   "source": [
    "We want to limit our search space therefore we restrict the compinatorial space to the following combinations which were the most abundant nucleotides in the PWM analysis"
   ]
  },
  {
   "cell_type": "code",
   "execution_count": 3,
   "metadata": {},
   "outputs": [],
   "source": [
    "position1 = [\"C\", \"T\", \"A\"]\n",
    "position2 = [\"C\", \"A\"]\n",
    "position3 = [ \"A\", \"G\"]\n",
    "position4 = [\"C\", \"T\", \"A\"]\n",
    "position5 = [\"C\", \"G\", \"A\"]\n",
    "\n",
    "nucleotide_list = [position1, position2, position3, position4, position5]"
   ]
  },
  {
   "cell_type": "code",
   "execution_count": 4,
   "metadata": {},
   "outputs": [],
   "source": [
    "from teemi.design.combinatorial_design import get_combinatorial_list"
   ]
  },
  {
   "cell_type": "code",
   "execution_count": 5,
   "metadata": {},
   "outputs": [],
   "source": [
    "# make all combinations\n",
    "kozak = get_combinatorial_list(nucleotide_list)"
   ]
  },
  {
   "cell_type": "code",
   "execution_count": 6,
   "metadata": {},
   "outputs": [],
   "source": [
    "# Make them into strings\n",
    "\n",
    "def make_to_string(list_of_list):\n",
    "    all_combinations_as_str = []\n",
    "    nuc_seq = ''\n",
    "    for sp in list_of_list: \n",
    "        for seq in sp: \n",
    "            nuc_seq += seq\n",
    "        \n",
    "        all_combinations_as_str.append(nuc_seq)\n",
    "        nuc_seq = ''\n",
    "\n",
    "    return all_combinations_as_str\n",
    "\n",
    "\n",
    "all_combinations_as_str = make_to_string(kozak)"
   ]
  },
  {
   "cell_type": "code",
   "execution_count": 7,
   "metadata": {},
   "outputs": [],
   "source": [
    "five_prime = 'TATATTCCACAAAACATAACACAACCT'\n",
    "three_prime = 'ATGGCCTCCTCCGAGGACGTCATCAAGG'"
   ]
  },
  {
   "cell_type": "code",
   "execution_count": 8,
   "metadata": {},
   "outputs": [],
   "source": [
    "five_prime_list = [[five_prime]] * len(all_combinations_as_str)\n",
    "three_prime_list = [list(three_prime)] * len(all_combinations_as_str)\n",
    "\n",
    "\n",
    "# to string\n",
    "five_prime_list = make_to_string(five_prime_list)\n",
    "three_prime_list = make_to_string(three_prime_list) \n"
   ]
  },
  {
   "cell_type": "code",
   "execution_count": 9,
   "metadata": {},
   "outputs": [],
   "source": [
    "muy_dict = {'five':five_prime_list, \"kozak\":all_combinations_as_str, \"three\":three_prime_list}"
   ]
  },
  {
   "cell_type": "code",
   "execution_count": 10,
   "metadata": {},
   "outputs": [
    {
     "data": {
      "text/html": [
       "<div>\n",
       "<style scoped>\n",
       "    .dataframe tbody tr th:only-of-type {\n",
       "        vertical-align: middle;\n",
       "    }\n",
       "\n",
       "    .dataframe tbody tr th {\n",
       "        vertical-align: top;\n",
       "    }\n",
       "\n",
       "    .dataframe thead th {\n",
       "        text-align: right;\n",
       "    }\n",
       "</style>\n",
       "<table border=\"1\" class=\"dataframe\">\n",
       "  <thead>\n",
       "    <tr style=\"text-align: right;\">\n",
       "      <th></th>\n",
       "      <th>five</th>\n",
       "      <th>kozak</th>\n",
       "      <th>three</th>\n",
       "      <th>primer</th>\n",
       "    </tr>\n",
       "  </thead>\n",
       "  <tbody>\n",
       "    <tr>\n",
       "      <th>0</th>\n",
       "      <td>TATATTCCACAAAACATAACACAACCT</td>\n",
       "      <td>CCACC</td>\n",
       "      <td>ATGGCCTCCTCCGAGGACGTCATCAAGG</td>\n",
       "      <td>TATATTCCACAAAACATAACACAACCTCCACCATGGCCTCCTCCGA...</td>\n",
       "    </tr>\n",
       "    <tr>\n",
       "      <th>1</th>\n",
       "      <td>TATATTCCACAAAACATAACACAACCT</td>\n",
       "      <td>CCACG</td>\n",
       "      <td>ATGGCCTCCTCCGAGGACGTCATCAAGG</td>\n",
       "      <td>TATATTCCACAAAACATAACACAACCTCCACGATGGCCTCCTCCGA...</td>\n",
       "    </tr>\n",
       "    <tr>\n",
       "      <th>2</th>\n",
       "      <td>TATATTCCACAAAACATAACACAACCT</td>\n",
       "      <td>CCACA</td>\n",
       "      <td>ATGGCCTCCTCCGAGGACGTCATCAAGG</td>\n",
       "      <td>TATATTCCACAAAACATAACACAACCTCCACAATGGCCTCCTCCGA...</td>\n",
       "    </tr>\n",
       "    <tr>\n",
       "      <th>3</th>\n",
       "      <td>TATATTCCACAAAACATAACACAACCT</td>\n",
       "      <td>CCATC</td>\n",
       "      <td>ATGGCCTCCTCCGAGGACGTCATCAAGG</td>\n",
       "      <td>TATATTCCACAAAACATAACACAACCTCCATCATGGCCTCCTCCGA...</td>\n",
       "    </tr>\n",
       "    <tr>\n",
       "      <th>4</th>\n",
       "      <td>TATATTCCACAAAACATAACACAACCT</td>\n",
       "      <td>CCATG</td>\n",
       "      <td>ATGGCCTCCTCCGAGGACGTCATCAAGG</td>\n",
       "      <td>TATATTCCACAAAACATAACACAACCTCCATGATGGCCTCCTCCGA...</td>\n",
       "    </tr>\n",
       "    <tr>\n",
       "      <th>...</th>\n",
       "      <td>...</td>\n",
       "      <td>...</td>\n",
       "      <td>...</td>\n",
       "      <td>...</td>\n",
       "    </tr>\n",
       "    <tr>\n",
       "      <th>103</th>\n",
       "      <td>TATATTCCACAAAACATAACACAACCT</td>\n",
       "      <td>AAGTG</td>\n",
       "      <td>ATGGCCTCCTCCGAGGACGTCATCAAGG</td>\n",
       "      <td>TATATTCCACAAAACATAACACAACCTAAGTGATGGCCTCCTCCGA...</td>\n",
       "    </tr>\n",
       "    <tr>\n",
       "      <th>104</th>\n",
       "      <td>TATATTCCACAAAACATAACACAACCT</td>\n",
       "      <td>AAGTA</td>\n",
       "      <td>ATGGCCTCCTCCGAGGACGTCATCAAGG</td>\n",
       "      <td>TATATTCCACAAAACATAACACAACCTAAGTAATGGCCTCCTCCGA...</td>\n",
       "    </tr>\n",
       "    <tr>\n",
       "      <th>105</th>\n",
       "      <td>TATATTCCACAAAACATAACACAACCT</td>\n",
       "      <td>AAGAC</td>\n",
       "      <td>ATGGCCTCCTCCGAGGACGTCATCAAGG</td>\n",
       "      <td>TATATTCCACAAAACATAACACAACCTAAGACATGGCCTCCTCCGA...</td>\n",
       "    </tr>\n",
       "    <tr>\n",
       "      <th>106</th>\n",
       "      <td>TATATTCCACAAAACATAACACAACCT</td>\n",
       "      <td>AAGAG</td>\n",
       "      <td>ATGGCCTCCTCCGAGGACGTCATCAAGG</td>\n",
       "      <td>TATATTCCACAAAACATAACACAACCTAAGAGATGGCCTCCTCCGA...</td>\n",
       "    </tr>\n",
       "    <tr>\n",
       "      <th>107</th>\n",
       "      <td>TATATTCCACAAAACATAACACAACCT</td>\n",
       "      <td>AAGAA</td>\n",
       "      <td>ATGGCCTCCTCCGAGGACGTCATCAAGG</td>\n",
       "      <td>TATATTCCACAAAACATAACACAACCTAAGAAATGGCCTCCTCCGA...</td>\n",
       "    </tr>\n",
       "  </tbody>\n",
       "</table>\n",
       "<p>108 rows × 4 columns</p>\n",
       "</div>"
      ],
      "text/plain": [
       "                            five  kozak                         three  \\\n",
       "0    TATATTCCACAAAACATAACACAACCT  CCACC  ATGGCCTCCTCCGAGGACGTCATCAAGG   \n",
       "1    TATATTCCACAAAACATAACACAACCT  CCACG  ATGGCCTCCTCCGAGGACGTCATCAAGG   \n",
       "2    TATATTCCACAAAACATAACACAACCT  CCACA  ATGGCCTCCTCCGAGGACGTCATCAAGG   \n",
       "3    TATATTCCACAAAACATAACACAACCT  CCATC  ATGGCCTCCTCCGAGGACGTCATCAAGG   \n",
       "4    TATATTCCACAAAACATAACACAACCT  CCATG  ATGGCCTCCTCCGAGGACGTCATCAAGG   \n",
       "..                           ...    ...                           ...   \n",
       "103  TATATTCCACAAAACATAACACAACCT  AAGTG  ATGGCCTCCTCCGAGGACGTCATCAAGG   \n",
       "104  TATATTCCACAAAACATAACACAACCT  AAGTA  ATGGCCTCCTCCGAGGACGTCATCAAGG   \n",
       "105  TATATTCCACAAAACATAACACAACCT  AAGAC  ATGGCCTCCTCCGAGGACGTCATCAAGG   \n",
       "106  TATATTCCACAAAACATAACACAACCT  AAGAG  ATGGCCTCCTCCGAGGACGTCATCAAGG   \n",
       "107  TATATTCCACAAAACATAACACAACCT  AAGAA  ATGGCCTCCTCCGAGGACGTCATCAAGG   \n",
       "\n",
       "                                                primer  \n",
       "0    TATATTCCACAAAACATAACACAACCTCCACCATGGCCTCCTCCGA...  \n",
       "1    TATATTCCACAAAACATAACACAACCTCCACGATGGCCTCCTCCGA...  \n",
       "2    TATATTCCACAAAACATAACACAACCTCCACAATGGCCTCCTCCGA...  \n",
       "3    TATATTCCACAAAACATAACACAACCTCCATCATGGCCTCCTCCGA...  \n",
       "4    TATATTCCACAAAACATAACACAACCTCCATGATGGCCTCCTCCGA...  \n",
       "..                                                 ...  \n",
       "103  TATATTCCACAAAACATAACACAACCTAAGTGATGGCCTCCTCCGA...  \n",
       "104  TATATTCCACAAAACATAACACAACCTAAGTAATGGCCTCCTCCGA...  \n",
       "105  TATATTCCACAAAACATAACACAACCTAAGACATGGCCTCCTCCGA...  \n",
       "106  TATATTCCACAAAACATAACACAACCTAAGAGATGGCCTCCTCCGA...  \n",
       "107  TATATTCCACAAAACATAACACAACCTAAGAAATGGCCTCCTCCGA...  \n",
       "\n",
       "[108 rows x 4 columns]"
      ]
     },
     "execution_count": 10,
     "metadata": {},
     "output_type": "execute_result"
    }
   ],
   "source": [
    "kozak_df = pd.DataFrame(muy_dict) \n",
    "kozak_df['primer'] = kozak_df['five'] + kozak_df['kozak'] + kozak_df['three']\n",
    "kozak_df"
   ]
  }
 ],
 "metadata": {
  "kernelspec": {
   "display_name": "constrain",
   "language": "python",
   "name": "python3"
  },
  "language_info": {
   "codemirror_mode": {
    "name": "ipython",
    "version": 3
   },
   "file_extension": ".py",
   "mimetype": "text/x-python",
   "name": "python",
   "nbconvert_exporter": "python",
   "pygments_lexer": "ipython3",
   "version": "3.8.13"
  },
  "orig_nbformat": 4
 },
 "nbformat": 4,
 "nbformat_minor": 2
}
