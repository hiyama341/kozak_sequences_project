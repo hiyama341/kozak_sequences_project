{
 "cells": [
  {
   "cell_type": "code",
   "execution_count": 1,
   "id": "12e623be-97bd-42cf-942a-4f188f6ab95d",
   "metadata": {},
   "outputs": [],
   "source": [
    "\n",
    "from pydna.dseqrecord import Dseqrecord\n",
    "from constrain.lab.PCR import primer_tm_neb\n",
    "from pydna.design import primer_design\n",
    "from pydna.dseqrecord import Dseqrecord\n",
    "from  Bio.SeqRecord import SeqRecord\n",
    "from pydna.dseqrecord import Dseqrecord\n",
    "from typing import List\n",
    "\n",
    "from typing import List\n",
    "\n",
    "from Bio import SeqIO \n",
    "from pydna.dseqrecord import Dseqrecord\n",
    "import pandas as pd\n",
    "from constrain.lab.PCR import primer_tm_neb\n",
    "from pydna.design import primer_design\n",
    "from Bio.SeqRecord import SeqRecord\n",
    "from Bio import SeqIO \n",
    "from pydna.dseqrecord import Dseqrecord\n",
    "from Bio.SeqFeature import SeqFeature, FeatureLocation\n",
    "import pandas as pd\n",
    "from pydna.assembly import Assembly\n",
    "from  Bio.SeqRecord import SeqRecord\n",
    "from dna_features_viewer import GraphicFeature, CircularGraphicRecord\n",
    "from dna_features_viewer import BiopythonTranslator\n",
    "import os\n",
    "from Bio import SeqIO \n",
    "\n",
    "from Bio.Seq import Seq\n"
   ]
  },
  {
   "cell_type": "code",
   "execution_count": 2,
   "id": "a9c5105f-6303-4417-9f67-e0cfbfe41f24",
   "metadata": {},
   "outputs": [],
   "source": [
    "def get_kozak_seqs(chromosome: SeqRecord, feature_type: str = 'CDS') -> List[str]:\n",
    "    \"\"\"\n",
    "    Get Kozak sequences from the coding sequences (CDS) of a chromosome.\n",
    "\n",
    "    Parameters\n",
    "    ----------\n",
    "    chromosome : str\n",
    "        The chromosome from which to extract the Kozak sequences.\n",
    "    feature_type : str, optional\n",
    "        The type of genomic feature to extract the Kozak sequences from. Default is 'CDS'.\n",
    "\n",
    "    Returns\n",
    "    -------\n",
    "    List[str]\n",
    "        A list of Kozak sequences extracted from the coding sequences of the chromosome.\n",
    "\n",
    "    Raises\n",
    "    ------\n",
    "    ValueError\n",
    "        If the specified feature type is not found in the chromosome.\n",
    "\n",
    "    Notes\n",
    "    -----\n",
    "    The Kozak sequence is a motif that occurs in the vicinity of the translation start site of eukaryotic genes.\n",
    "    It consists of the sequence \"gccRccAUGG\", where R is a purine and the AUG start codon is in bold.\n",
    "    This function extracts the Kozak sequence from the coding sequences of a chromosome, given the feature type.\n",
    "\n",
    "    Examples\n",
    "    --------\n",
    "    >>> chromosome = \"ATCGCTAGCTAGCTAGCTAGCTAGCTAGCTAGCTAGCTAGCTAGCTAGCTAGCTAGCTAGCTAGCTAGCTAGCTAGCTAGCTAGC\"\n",
    "    >>> get_kozak_seqs(chromosome)\n",
    "    []\n",
    "\n",
    "    >>> chromosome = SeqIO.read(\"myseqs.fasta\", \"fasta\")\n",
    "    >>> get_kozak_seqs(chromosome, feature_type='CDS')\n",
    "    [\"gccaccATGG\", \"gccgccATGG\"]\n",
    "    \"\"\"\n",
    "\n",
    "    kozak_seqs = []\n",
    "    for feature in chromosome.features:\n",
    "        if feature.type == feature_type:\n",
    "            if feature.strand == 1:\n",
    "                start_location = feature.location.start\n",
    "                kozak = chromosome[start_location-6 : start_location+3]\n",
    "                kozak_seqs.append(Dseqrecord(kozak, name=f\"Kozak_{feature.qualifiers['locus_tag'][0]}\"))\n",
    "                \n",
    "            elif feature.strand == -1:\n",
    "                start_location = feature.location.end\n",
    "                kozak = chromosome[start_location -3: start_location+6]\n",
    "                kozak_seqs.append(Dseqrecord(kozak.reverse_complement(), \n",
    "                                             name=f\"Kozak_{feature.qualifiers['locus_tag'][0]}\"))\n",
    "                \n",
    "    return kozak_seqs\n"
   ]
  },
  {
   "cell_type": "markdown",
   "id": "c9bf2105-b445-401f-9cee-79c77f5f9736",
   "metadata": {},
   "source": [
    "# Aspergillus oryzae - kozak sequences"
   ]
  },
  {
   "cell_type": "code",
   "execution_count": 3,
   "id": "8a06b35f-776f-4592-ab8f-cd13b99a98fe",
   "metadata": {},
   "outputs": [
    {
     "data": {
      "text/plain": [
       "['chrom8.gb',\n",
       " 'chrom3.gb',\n",
       " 'chrom7.gb',\n",
       " 'chrom6.gb',\n",
       " 'chrom2.gb',\n",
       " 'chrom5.gb',\n",
       " 'chrom1.gb',\n",
       " 'chrom4.gb',\n",
       " '.ipynb_checkpoints']"
      ]
     },
     "execution_count": 3,
     "metadata": {},
     "output_type": "execute_result"
    }
   ],
   "source": [
    "import os\n",
    "dir_path = '../data/Aspergillus oryzae RIB40 (ascomycete fungi)/ncbi/'\n",
    "\n",
    "# list file and directories\n",
    "res = os.listdir(dir_path)\n",
    "res"
   ]
  },
  {
   "cell_type": "code",
   "execution_count": 4,
   "id": "e67749a5-befa-40f1-9915-5775f9649ae8",
   "metadata": {},
   "outputs": [],
   "source": [
    "chromosomes = []\n",
    "for name in res: \n",
    "    if name.endswith('.gb'): \n",
    "        seq = SeqIO.read(f'../data/Aspergillus oryzae RIB40 (ascomycete fungi)/ncbi/{name}', format = 'gb')\n",
    "        chromosomes.append(seq)"
   ]
  },
  {
   "cell_type": "code",
   "execution_count": 5,
   "id": "7f8c4541-54b4-40c7-9bf4-0f568c701b96",
   "metadata": {},
   "outputs": [
    {
     "name": "stdout",
     "output_type": "stream",
     "text": [
      "TGACCCTAATGTTGACCCTAATGTTGACCCTAATTATTTATTTAACAGTGAAATCTGGCCAGAAACAGGACACAGTTGTCAGTGGCCCAGCAAGTGTTGAGAAGCACTGGTCTACTCTTGATTGGATCTGAATTTGGGCTTTTCTGCTCTACTCTGTAGAGTAGAAGACCTGTGAGGTGGCTCACGCTTGGAGAACACAAAACATAGACATGTTCTTGGTTTTGCATTTGTCAGCTCGATTCTCAGTATATAGTTACGAACGTGGCTATTTATAATTGAAAGAATAATATTTCAGACTAGACAGGTAAAGTGCAGGTATCTTATCTGATGAAGTAGGAAGCTAAGTTATCAAGTATGCTGTAAGTGAGGTTTAACATTAGATGTAAGTGTGCGGTACGTCCAGTCCTAAGCATAGTCCTCATTTAATAGCGGTTGGCTCAGTAGAATATATGTGCTAAGCTCTTGGTAGTGGGGCTGGGCATCAATTAACATATGTTTAATGGTCAAACCGAGTCCGACAAGGACTGTACTAAAAGGAAAAACTAATCATTATATGTTTGTGGGTCAGACCGATTTTAAGAATAACTGTAAAAATCCACCGCCGGGCACCGTTTTTGCAACATAGTGTAAGAGTTGGACGACCCCCTAGAAAGACTGAGGACTGTACGCGAAGGTAGCCCTCCGGACTGTACTGGTTGGAAGGGATGTTGTTGGAACAAGTTGTTGTTATTGGGCAAAATGCCTTTAGGCCGCCCCCTTACGGGACGGGCCGAAACATGAACCCCTGAACCTCCCGACGGCAACGAACGCGAAGAATCACCACCACGCGTCAGACCGAAATGCATTATCAGGCCCCCAAACAGCTACGCGCGCGAGCAAGAAGAACAAATCGAAATCAACAATACACGTCCCCAGCGGGTAAAGAACCCCAGAGGCAGACCAAGAAACCAAAGCGACGCGCCAGCAGGTCGGGAGGCACCGACCCCTGAAGGCACCCCAA\n"
     ]
    }
   ],
   "source": [
    "print(chromosomes[0].seq[:1000])"
   ]
  },
  {
   "cell_type": "code",
   "execution_count": 6,
   "id": "77ebfa64-c331-43c8-9516-5c662d7a90ce",
   "metadata": {},
   "outputs": [
    {
     "name": "stdout",
     "output_type": "stream",
     "text": [
      "CPU times: user 1min 26s, sys: 1.35 s, total: 1min 27s\n",
      "Wall time: 1min 35s\n"
     ]
    }
   ],
   "source": [
    "%%time\n",
    "kozaks_for_all_chromosomes = []\n",
    "for chromosome in chromosomes: \n",
    "    kozaks_for_all_chromosomes.extend(get_kozak_seqs(chromosome))"
   ]
  },
  {
   "cell_type": "code",
   "execution_count": 7,
   "id": "4e39c3c1-ebd4-4df1-b04d-8fcc93b5cb4b",
   "metadata": {},
   "outputs": [],
   "source": [
    "seq_instances = [Seq(str(seq.seq)) for seq in kozaks_for_all_chromosomes ]"
   ]
  },
  {
   "cell_type": "code",
   "execution_count": 8,
   "id": "6e15ccfa-5e6d-4ffd-9638-7d0fbc5bc6d6",
   "metadata": {},
   "outputs": [
    {
     "data": {
      "text/plain": [
       "[Seq('GAAGAGATG'),\n",
       " Seq('ACGACTATG'),\n",
       " Seq('CTAACCATG'),\n",
       " Seq('GGCGCCATG'),\n",
       " Seq('GGTTCTATG'),\n",
       " Seq('AATGTTATG'),\n",
       " Seq('CAAGTCATG'),\n",
       " Seq('TTGATCATG'),\n",
       " Seq('TTAATGATG'),\n",
       " Seq('TTGAACATG')]"
      ]
     },
     "execution_count": 8,
     "metadata": {},
     "output_type": "execute_result"
    }
   ],
   "source": [
    "seq_instances[:10]"
   ]
  },
  {
   "cell_type": "code",
   "execution_count": 9,
   "id": "267bfc38-5a30-4de8-b3f5-21d1f626ccc7",
   "metadata": {},
   "outputs": [
    {
     "data": {
      "text/plain": [
       "Seq('GCCAACATG')"
      ]
     },
     "execution_count": 9,
     "metadata": {},
     "output_type": "execute_result"
    }
   ],
   "source": [
    "from Bio import motifs\n",
    "\n",
    "m = motifs.create(seq_instances, alphabet=\"ATCG\")\n",
    "m.consensus"
   ]
  },
  {
   "cell_type": "code",
   "execution_count": 10,
   "id": "1efb3364-a410-42df-84fb-f87f29f3c7e0",
   "metadata": {},
   "outputs": [
    {
     "data": {
      "text/html": [
       "<div>\n",
       "<style scoped>\n",
       "    .dataframe tbody tr th:only-of-type {\n",
       "        vertical-align: middle;\n",
       "    }\n",
       "\n",
       "    .dataframe tbody tr th {\n",
       "        vertical-align: top;\n",
       "    }\n",
       "\n",
       "    .dataframe thead th {\n",
       "        text-align: right;\n",
       "    }\n",
       "</style>\n",
       "<table border=\"1\" class=\"dataframe\">\n",
       "  <thead>\n",
       "    <tr style=\"text-align: right;\">\n",
       "      <th></th>\n",
       "      <th>A</th>\n",
       "      <th>T</th>\n",
       "      <th>C</th>\n",
       "      <th>G</th>\n",
       "    </tr>\n",
       "  </thead>\n",
       "  <tbody>\n",
       "    <tr>\n",
       "      <th>0</th>\n",
       "      <td>3094</td>\n",
       "      <td>3093</td>\n",
       "      <td>2699</td>\n",
       "      <td>3176</td>\n",
       "    </tr>\n",
       "    <tr>\n",
       "      <th>1</th>\n",
       "      <td>2834</td>\n",
       "      <td>3623</td>\n",
       "      <td>3921</td>\n",
       "      <td>1684</td>\n",
       "    </tr>\n",
       "    <tr>\n",
       "      <th>2</th>\n",
       "      <td>3035</td>\n",
       "      <td>1683</td>\n",
       "      <td>5840</td>\n",
       "      <td>1504</td>\n",
       "    </tr>\n",
       "    <tr>\n",
       "      <th>3</th>\n",
       "      <td>7605</td>\n",
       "      <td>835</td>\n",
       "      <td>950</td>\n",
       "      <td>2672</td>\n",
       "    </tr>\n",
       "    <tr>\n",
       "      <th>4</th>\n",
       "      <td>4199</td>\n",
       "      <td>2429</td>\n",
       "      <td>4144</td>\n",
       "      <td>1290</td>\n",
       "    </tr>\n",
       "    <tr>\n",
       "      <th>5</th>\n",
       "      <td>3798</td>\n",
       "      <td>1728</td>\n",
       "      <td>4426</td>\n",
       "      <td>2110</td>\n",
       "    </tr>\n",
       "    <tr>\n",
       "      <th>6</th>\n",
       "      <td>12062</td>\n",
       "      <td>0</td>\n",
       "      <td>0</td>\n",
       "      <td>0</td>\n",
       "    </tr>\n",
       "    <tr>\n",
       "      <th>7</th>\n",
       "      <td>0</td>\n",
       "      <td>12062</td>\n",
       "      <td>0</td>\n",
       "      <td>0</td>\n",
       "    </tr>\n",
       "    <tr>\n",
       "      <th>8</th>\n",
       "      <td>0</td>\n",
       "      <td>0</td>\n",
       "      <td>0</td>\n",
       "      <td>12062</td>\n",
       "    </tr>\n",
       "  </tbody>\n",
       "</table>\n",
       "</div>"
      ],
      "text/plain": [
       "       A      T     C      G\n",
       "0   3094   3093  2699   3176\n",
       "1   2834   3623  3921   1684\n",
       "2   3035   1683  5840   1504\n",
       "3   7605    835   950   2672\n",
       "4   4199   2429  4144   1290\n",
       "5   3798   1728  4426   2110\n",
       "6  12062      0     0      0\n",
       "7      0  12062     0      0\n",
       "8      0      0     0  12062"
      ]
     },
     "execution_count": 10,
     "metadata": {},
     "output_type": "execute_result"
    }
   ],
   "source": [
    "df = pd.DataFrame(m.counts)\n",
    "df"
   ]
  },
  {
   "cell_type": "code",
   "execution_count": 11,
   "id": "5e30812b-69a9-4970-bd50-81910fb63718",
   "metadata": {},
   "outputs": [
    {
     "data": {
      "text/html": [
       "<div>\n",
       "<style scoped>\n",
       "    .dataframe tbody tr th:only-of-type {\n",
       "        vertical-align: middle;\n",
       "    }\n",
       "\n",
       "    .dataframe tbody tr th {\n",
       "        vertical-align: top;\n",
       "    }\n",
       "\n",
       "    .dataframe thead th {\n",
       "        text-align: right;\n",
       "    }\n",
       "</style>\n",
       "<table border=\"1\" class=\"dataframe\">\n",
       "  <thead>\n",
       "    <tr style=\"text-align: right;\">\n",
       "      <th></th>\n",
       "      <th>A</th>\n",
       "      <th>T</th>\n",
       "      <th>C</th>\n",
       "      <th>G</th>\n",
       "    </tr>\n",
       "  </thead>\n",
       "  <tbody>\n",
       "    <tr>\n",
       "      <th>0</th>\n",
       "      <td>0.256508</td>\n",
       "      <td>0.256425</td>\n",
       "      <td>0.223761</td>\n",
       "      <td>0.263306</td>\n",
       "    </tr>\n",
       "    <tr>\n",
       "      <th>1</th>\n",
       "      <td>0.234953</td>\n",
       "      <td>0.300365</td>\n",
       "      <td>0.325070</td>\n",
       "      <td>0.139612</td>\n",
       "    </tr>\n",
       "    <tr>\n",
       "      <th>2</th>\n",
       "      <td>0.251617</td>\n",
       "      <td>0.139529</td>\n",
       "      <td>0.484165</td>\n",
       "      <td>0.124689</td>\n",
       "    </tr>\n",
       "    <tr>\n",
       "      <th>3</th>\n",
       "      <td>0.630492</td>\n",
       "      <td>0.069226</td>\n",
       "      <td>0.078760</td>\n",
       "      <td>0.221522</td>\n",
       "    </tr>\n",
       "    <tr>\n",
       "      <th>4</th>\n",
       "      <td>0.348118</td>\n",
       "      <td>0.201376</td>\n",
       "      <td>0.343558</td>\n",
       "      <td>0.106947</td>\n",
       "    </tr>\n",
       "    <tr>\n",
       "      <th>5</th>\n",
       "      <td>0.314873</td>\n",
       "      <td>0.143260</td>\n",
       "      <td>0.366937</td>\n",
       "      <td>0.174930</td>\n",
       "    </tr>\n",
       "    <tr>\n",
       "      <th>6</th>\n",
       "      <td>1.000000</td>\n",
       "      <td>0.000000</td>\n",
       "      <td>0.000000</td>\n",
       "      <td>0.000000</td>\n",
       "    </tr>\n",
       "    <tr>\n",
       "      <th>7</th>\n",
       "      <td>0.000000</td>\n",
       "      <td>1.000000</td>\n",
       "      <td>0.000000</td>\n",
       "      <td>0.000000</td>\n",
       "    </tr>\n",
       "    <tr>\n",
       "      <th>8</th>\n",
       "      <td>0.000000</td>\n",
       "      <td>0.000000</td>\n",
       "      <td>0.000000</td>\n",
       "      <td>1.000000</td>\n",
       "    </tr>\n",
       "  </tbody>\n",
       "</table>\n",
       "</div>"
      ],
      "text/plain": [
       "          A         T         C         G\n",
       "0  0.256508  0.256425  0.223761  0.263306\n",
       "1  0.234953  0.300365  0.325070  0.139612\n",
       "2  0.251617  0.139529  0.484165  0.124689\n",
       "3  0.630492  0.069226  0.078760  0.221522\n",
       "4  0.348118  0.201376  0.343558  0.106947\n",
       "5  0.314873  0.143260  0.366937  0.174930\n",
       "6  1.000000  0.000000  0.000000  0.000000\n",
       "7  0.000000  1.000000  0.000000  0.000000\n",
       "8  0.000000  0.000000  0.000000  1.000000"
      ]
     },
     "execution_count": 11,
     "metadata": {},
     "output_type": "execute_result"
    }
   ],
   "source": [
    "# getting the prevalence of each AA on each position \n",
    "df_pwn = pd.DataFrame(m.pwm)\n",
    "#df_pwn.to_csv('../data/02_all_signal_peptides/df_pwn_68_positions.csv', index_label=False )\n",
    "df_pwn"
   ]
  },
  {
   "cell_type": "code",
   "execution_count": 12,
   "id": "f69e2c97-54f2-4de8-8abf-ade9dc6c3319",
   "metadata": {},
   "outputs": [
    {
     "data": {
      "image/png": "[encoded data removed]",
      "text/plain": [
       "<Figure size 720x360 with 1 Axes>"
      ]
     },
     "metadata": {
      "needs_background": "light"
     },
     "output_type": "display_data"
    }
   ],
   "source": [
    "import logomaker as lm\n",
    "logo = lm.Logo(df_pwn, \n",
    "               font_name = 'Arial Rounded MT Bold',\n",
    "               color_scheme='NajafabadiEtAl2017',\n",
    "               figsize=(10,5))"
   ]
  },
  {
   "cell_type": "code",
   "execution_count": 13,
   "id": "3c8755f6-9129-432a-853b-85632c899c73",
   "metadata": {},
   "outputs": [
    {
     "data": {
      "text/plain": [
       "12062"
      ]
     },
     "execution_count": 13,
     "metadata": {},
     "output_type": "execute_result"
    }
   ],
   "source": [
    "len(kozaks_for_all_chromosomes)"
   ]
  },
  {
   "cell_type": "markdown",
   "id": "5e1f5bda-9677-4070-8991-028f7549eef3",
   "metadata": {},
   "source": [
    "# Aspergillus niger - kozak sequences"
   ]
  },
  {
   "cell_type": "code",
   "execution_count": null,
   "id": "b5e6398c-1799-4ea3-8a90-84f430fb9b2f",
   "metadata": {},
   "outputs": [],
   "source": []
  }
 ],
 "metadata": {
  "kernelspec": {
   "display_name": "Python 3 (ipykernel)",
   "language": "python",
   "name": "python3"
  },
  "language_info": {
   "codemirror_mode": {
    "name": "ipython",
    "version": 3
   },
   "file_extension": ".py",
   "mimetype": "text/x-python",
   "name": "python",
   "nbconvert_exporter": "python",
   "pygments_lexer": "ipython3",
   "version": "3.8.13"
  }
 },
 "nbformat": 4,
 "nbformat_minor": 5
}
